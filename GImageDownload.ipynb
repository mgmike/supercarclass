{
 "cells": [
  {
   "cell_type": "markdown",
   "metadata": {},
   "source": [
    "# Download images"
   ]
  },
  {
   "cell_type": "code",
   "execution_count": null,
   "metadata": {},
   "outputs": [],
   "source": [
    "#Make sure to use following gid instead of main one:\n",
    "#pip3 install git+https://github.com/Joeclinton1/google-images-download.git\n",
    "import os\n",
    "import shutil"
   ]
  },
  {
   "cell_type": "markdown",
   "metadata": {},
   "source": [
    "## Collect lists of classes"
   ]
  },
  {
   "cell_type": "code",
   "execution_count": 4,
   "metadata": {},
   "outputs": [],
   "source": [
    "cwd = os.getcwd()\n",
    "data_dir = cwd + '/new_cars'\n",
    "limit = 100\n",
    "train_ratio = 0.8\n",
    "model = 'Mclaren 650S'\n",
    "\n",
    "anno_train = []\n",
    "anno_test = []\n",
    "names = []\n",
    "cars_tba = []\n",
    "\n",
    "for line in open(cwd + '/naming/anno_train.csv'):\n",
    "    anno_train.append(line)\n",
    "for line in open(cwd + '/naming/anno_test.csv'):\n",
    "    anno_test.append(line)\n",
    "for line in open(cwd + '/naming/new_names.csv'):\n",
    "    cars_tba.append(line.strip('\\n'))"
   ]
  },
  {
   "cell_type": "markdown",
   "metadata": {},
   "source": [
    "## The functions are defined here"
   ]
  },
  {
   "cell_type": "code",
   "execution_count": 15,
   "metadata": {},
   "outputs": [],
   "source": [
    "from google_images_download import google_images_download as gid\n",
    "\n",
    "def download_images(model_list, directory, limit=100):\n",
    "    for model in model_list:\n",
    "        if not os.path.exists(f'{directory}/new/{model}') and not os.path.exists(f'{directory}/train/{model}'):\n",
    "            args = {'keywords':model, \n",
    "                    'limit':limit, \n",
    "                    'format':'jpg', \n",
    "                    'output_directory':directory + '/new', \n",
    "                    'image_directory':model,\n",
    "                    'size':'medium',\n",
    "                    'suffix_keywords':'exterior'}\n",
    "            response = gid.googleimagesdownload()\n",
    "            paths = response.download(args)\n",
    "            for path in paths[0][model + ' exterior']:\n",
    "                split = path.split('.')\n",
    "                if split[len(split) - 1] != 'jpg':\n",
    "                    os.remove(path)\n",
    "        \n",
    "def rename_images(directory, model, data_list):\n",
    "    directory_model = directory + '/' + model\n",
    "    for filename in os.listdir(directory_model):\n",
    "        last_file_number = int(data_list[len(data_list) - 1].split(',')[0].split('.')[0])\n",
    "        new_name = '%0*d' %(5, last_file_number + 1) + '.jpg'\n",
    "        os.rename(directory_model + '/' + filename, directory_model + '/' + new_name)\n",
    "        data_list.append(new_name + ',0')\n",
    "            \n",
    "def move_images(directory, model):\n",
    "    dir_list = os.listdir(f'{directory}/new/{model}')\n",
    "    print(dir_list)\n",
    "    if not os.path.exists(f'{directory}/train/{model}'):\n",
    "        os.mkdir(f'{directory}/train/{model}')\n",
    "    if not os.path.exists(f'{directory}/test/{model}'):\n",
    "        os.mkdir(f'{directory}/test/{model}')\n",
    "    \n",
    "    for i, filename in enumerate(dir_list):\n",
    "        if i < int(len(dir_list) * train_ratio):\n",
    "            shutil.copyfile(directory + '/train_test/' + model + '/' + filename, directory + '/train/' + model + '/' + filename)\n",
    "        else:\n",
    "            shutil.copyfile(directory + '/train_test/' + model + '/' + filename, directory + '/test/' + model + '/' + filename)\n",
    "\n",
    "def redistribute_images(directory, cars_tba, dir1='/train/', dir2='/test/', train_test_ratio=0.8):\n",
    "    if not os.path.exists(directory + dir1[:len(dir1) - 1]):\n",
    "        os.mkdir(directory + dir1[:len(dir1) - 1])        \n",
    "    if not os.path.exists(directory + dir2[:len(dir1) - 1]):\n",
    "        os.mkdir(directory + dir2[:len(dir1) - 1])\n",
    "            \n",
    "    for model in cars_tba:\n",
    "        if not os.path.exists(directory + dir1 + model):\n",
    "            os.mkdir(directory + dir1 + model)\n",
    "        if not os.path.exists(directory + dir2 + model):\n",
    "            os.mkdir(directory + dir2 + model)\n",
    "        train_list = os.listdir(directory + dir1 + model)\n",
    "        test_list = os.listdir(directory + dir2 + model)\n",
    "\n",
    "        for element in test_list:\n",
    "            train_list.append(test_list.pop(0))\n",
    "        \n",
    "        total = len(train_list)\n",
    "        while len(test_list) < (total * (1 - train_test_ratio)):\n",
    "            test_list.append(train_list.pop(0))\n",
    "        for filename in train_list:\n",
    "            if os.path.exists(directory + dir2 + model + '/' + filename):\n",
    "                shutil.move(directory + dir2 + model + '/'  + filename, directory + dir1 + model + '/'  + filename)\n",
    "        for filename in test_list:\n",
    "            if os.path.exists(directory + dir1 + model + '/' + filename):\n",
    "                shutil.move(directory + dir1 + model + '/'  + filename, directory + dir2 + model + '/'  + filename)\n",
    "            \n",
    "def remove_nonjpeg(directory, model):\n",
    "    train_list = os.listdir(directory + '/train/' + model)\n",
    "    test_list = os.listdir(directory + '/test/' + model)\n",
    "    for filename in train_list:\n",
    "        if '.jpg' not in filename:\n",
    "            os.remove(directory + '/train/' + model + '/' + filename)\n",
    "            removed += 1\n",
    "    for filename in test_list:\n",
    "        if '.jpg' not in filename:\n",
    "            os.remove(directory + '/test/' + model + '/' + filename)\n",
    "            removed += 1"
   ]
  },
  {
   "cell_type": "markdown",
   "metadata": {},
   "source": [
    "## Download new images"
   ]
  },
  {
   "cell_type": "code",
   "execution_count": 12,
   "metadata": {},
   "outputs": [],
   "source": [
    "for model in cars_tba:\n",
    "    if not os.path.exists(data_dir + '/train_test/' + model):\n",
    "        download_images(data_dir + '/train_test', model, limit)"
   ]
  },
  {
   "cell_type": "markdown",
   "metadata": {},
   "source": [
    "## Move and rename images according to some silly scheme"
   ]
  },
  {
   "cell_type": "code",
   "execution_count": null,
   "metadata": {
    "scrolled": true,
    "tags": []
   },
   "outputs": [],
   "source": [
    "for model in cars_tba:\n",
    "    move_images(data_dir, model)\n",
    "    rename_images(data_dir + '/train', model, anno_train)\n",
    "    rename_images(data_dir + '/test' , model, anno_test)\n",
    "\n",
    "    names.append(model)"
   ]
  },
  {
   "cell_type": "markdown",
   "metadata": {},
   "source": [
    "## Split images into train, test and validation"
   ]
  },
  {
   "cell_type": "code",
   "execution_count": null,
   "metadata": {},
   "outputs": [],
   "source": [
    "redistribute_images(data_dir, cars_tba, dir2='/val/', train_test_ratio=0.9)"
   ]
  }
 ],
 "metadata": {
  "kernelspec": {
   "display_name": "Python 3.6.9 64-bit",
   "language": "python",
   "name": "python3"
  },
  "language_info": {
   "codemirror_mode": {
    "name": "ipython",
    "version": 3
   },
   "file_extension": ".py",
   "mimetype": "text/x-python",
   "name": "python",
   "nbconvert_exporter": "python",
   "pygments_lexer": "ipython3",
   "version": "3.6.9"
  },
  "vscode": {
   "interpreter": {
    "hash": "30295c5bec572e859485b1ffa5e89b8b3e2022ef6e3e739c1ac40f143a557caf"
   }
  }
 },
 "nbformat": 4,
 "nbformat_minor": 4
}
